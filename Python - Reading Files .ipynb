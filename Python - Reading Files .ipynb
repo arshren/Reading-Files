{
 "cells": [
  {
   "cell_type": "markdown",
   "metadata": {},
   "source": [
    "# Reading and wrting CSV, JSON, Excel and HTML files "
   ]
  },
  {
   "cell_type": "code",
   "execution_count": 75,
   "metadata": {},
   "outputs": [],
   "source": [
    "# opening a file in write mode\n",
    "# if file already exists the content will be overwritten\n",
    "file = open(\"file_1.txt\", \"w\")\n",
    "file.write(\"This a test write\\n\")\n",
    "file.close()"
   ]
  },
  {
   "cell_type": "code",
   "execution_count": 60,
   "metadata": {},
   "outputs": [
    {
     "name": "stdout",
     "output_type": "stream",
     "text": [
      "This a test write\n",
      "\n"
     ]
    }
   ],
   "source": [
    "# opening a file in read only  mode\n",
    "file = open(\"file_1.txt\", \"r\")\n",
    "str1 = file.readline()\n",
    "print(str1)\n",
    "file.close()"
   ]
  },
  {
   "cell_type": "code",
   "execution_count": 76,
   "metadata": {},
   "outputs": [],
   "source": [
    "# opening a file in append  mode which writes at the end of the file\n",
    "file = open(\"file_1.txt\", \"a\")\n",
    "file.write(\"This should be written at the end of the file\\n\")\n",
    "file.close()"
   ]
  },
  {
   "cell_type": "code",
   "execution_count": 77,
   "metadata": {},
   "outputs": [
    {
     "name": "stdout",
     "output_type": "stream",
     "text": [
      "This a test write\n",
      "\n",
      "This should be written at the end of the file\n",
      "\n"
     ]
    }
   ],
   "source": [
    "# opening file in read and write mode\n",
    "file = open(\"file_1.txt\", \"r+\")\n",
    "for str1 in file.readlines():\n",
    "    print(str1)\n",
    "file.close()"
   ]
  },
  {
   "cell_type": "code",
   "execution_count": 78,
   "metadata": {},
   "outputs": [
    {
     "name": "stdout",
     "output_type": "stream",
     "text": [
      "['This a test write\\n', 'This should be written at the end of the file\\n']\n"
     ]
    }
   ],
   "source": [
    "# with is a mouch cleaner way to read the\n",
    "with open(\"file_1.txt\") as file:\n",
    "    print(file.readlines())\n",
    "\n"
   ]
  },
  {
   "cell_type": "code",
   "execution_count": 86,
   "metadata": {},
   "outputs": [
    {
     "name": "stdout",
     "output_type": "stream",
     "text": [
      "['This is a with statement']\n"
     ]
    }
   ],
   "source": [
    "with open(\"file_1.txt\", \"w\") as file:\n",
    "    file.write(\"This is a with statement\")\n",
    "    \n",
    "with open(\"file_1.txt\", \"r\") as file:    \n",
    "    print(file.readlines())   "
   ]
  },
  {
   "cell_type": "code",
   "execution_count": 210,
   "metadata": {},
   "outputs": [
    {
     "data": {
      "text/plain": [
       "{'Education': ['MBA', 'BS', 'MS', 'MBA'],\n",
       " 'Experience': [10, 5, 2, 20],\n",
       " 'Name': ['Jack', 'Jill', 'Em', 'David'],\n",
       " 'Profession': ['Manager', 'Analyst', 'Data scientist', 'VP']}"
      ]
     },
     "execution_count": 210,
     "metadata": {},
     "output_type": "execute_result"
    }
   ],
   "source": [
    "# creating data for reading csv files\n",
    "data ={\"Name\":['Jack', 'Jill', 'Em', 'David'],\n",
    "           \"Profession\":['Manager', 'Analyst', 'Data scientist', 'VP'],\n",
    "           \"Experience\":[10,5,2,20],\n",
    "           \"Education\":['MBA', 'BS', 'MS','MBA']}\n",
    "data"
   ]
  },
  {
   "cell_type": "code",
   "execution_count": 211,
   "metadata": {},
   "outputs": [
    {
     "data": {
      "text/html": [
       "<div>\n",
       "<style>\n",
       "    .dataframe thead tr:only-child th {\n",
       "        text-align: right;\n",
       "    }\n",
       "\n",
       "    .dataframe thead th {\n",
       "        text-align: left;\n",
       "    }\n",
       "\n",
       "    .dataframe tbody tr th {\n",
       "        vertical-align: top;\n",
       "    }\n",
       "</style>\n",
       "<table border=\"1\" class=\"dataframe\">\n",
       "  <thead>\n",
       "    <tr style=\"text-align: right;\">\n",
       "      <th></th>\n",
       "      <th>Education</th>\n",
       "      <th>Experience</th>\n",
       "      <th>Name</th>\n",
       "      <th>Profession</th>\n",
       "    </tr>\n",
       "  </thead>\n",
       "  <tbody>\n",
       "    <tr>\n",
       "      <th>0</th>\n",
       "      <td>MBA</td>\n",
       "      <td>10</td>\n",
       "      <td>Jack</td>\n",
       "      <td>Manager</td>\n",
       "    </tr>\n",
       "    <tr>\n",
       "      <th>1</th>\n",
       "      <td>BS</td>\n",
       "      <td>5</td>\n",
       "      <td>Jill</td>\n",
       "      <td>Analyst</td>\n",
       "    </tr>\n",
       "    <tr>\n",
       "      <th>2</th>\n",
       "      <td>MS</td>\n",
       "      <td>2</td>\n",
       "      <td>Em</td>\n",
       "      <td>Data scientist</td>\n",
       "    </tr>\n",
       "    <tr>\n",
       "      <th>3</th>\n",
       "      <td>MBA</td>\n",
       "      <td>20</td>\n",
       "      <td>David</td>\n",
       "      <td>VP</td>\n",
       "    </tr>\n",
       "  </tbody>\n",
       "</table>\n",
       "</div>"
      ],
      "text/plain": [
       "  Education  Experience   Name      Profession\n",
       "0       MBA          10   Jack         Manager\n",
       "1        BS           5   Jill         Analyst\n",
       "2        MS           2     Em  Data scientist\n",
       "3       MBA          20  David              VP"
      ]
     },
     "execution_count": 211,
     "metadata": {},
     "output_type": "execute_result"
    }
   ],
   "source": [
    "#loading the data into a csv file\n",
    "import pandas as pd\n",
    "# first creating a Dataframe\n",
    "df = pd.DataFrame(data)\n",
    "\n",
    "df"
   ]
  },
  {
   "cell_type": "code",
   "execution_count": 208,
   "metadata": {},
   "outputs": [
    {
     "data": {
      "text/plain": [
       "'C:\\\\Users\\\\arshr'"
      ]
     },
     "execution_count": 208,
     "metadata": {},
     "output_type": "execute_result"
    }
   ],
   "source": [
    "pwd\n"
   ]
  },
  {
   "cell_type": "code",
   "execution_count": 104,
   "metadata": {},
   "outputs": [],
   "source": [
    "# writing data from a dataframe to a csv file\n",
    "df.to_csv(\"emp.csv\")"
   ]
  },
  {
   "cell_type": "code",
   "execution_count": 105,
   "metadata": {},
   "outputs": [
    {
     "data": {
      "text/html": [
       "<div>\n",
       "<style>\n",
       "    .dataframe thead tr:only-child th {\n",
       "        text-align: right;\n",
       "    }\n",
       "\n",
       "    .dataframe thead th {\n",
       "        text-align: left;\n",
       "    }\n",
       "\n",
       "    .dataframe tbody tr th {\n",
       "        vertical-align: top;\n",
       "    }\n",
       "</style>\n",
       "<table border=\"1\" class=\"dataframe\">\n",
       "  <thead>\n",
       "    <tr style=\"text-align: right;\">\n",
       "      <th></th>\n",
       "      <th>Unnamed: 0</th>\n",
       "      <th>Education</th>\n",
       "      <th>Experience</th>\n",
       "      <th>Name</th>\n",
       "      <th>Profession</th>\n",
       "    </tr>\n",
       "  </thead>\n",
       "  <tbody>\n",
       "    <tr>\n",
       "      <th>0</th>\n",
       "      <td>0</td>\n",
       "      <td>MBA</td>\n",
       "      <td>10</td>\n",
       "      <td>Jack</td>\n",
       "      <td>Manager</td>\n",
       "    </tr>\n",
       "    <tr>\n",
       "      <th>1</th>\n",
       "      <td>1</td>\n",
       "      <td>BS</td>\n",
       "      <td>5</td>\n",
       "      <td>Jill</td>\n",
       "      <td>Analyst</td>\n",
       "    </tr>\n",
       "    <tr>\n",
       "      <th>2</th>\n",
       "      <td>2</td>\n",
       "      <td>MS</td>\n",
       "      <td>2</td>\n",
       "      <td>Em</td>\n",
       "      <td>Data scientist</td>\n",
       "    </tr>\n",
       "    <tr>\n",
       "      <th>3</th>\n",
       "      <td>3</td>\n",
       "      <td>MBA</td>\n",
       "      <td>20</td>\n",
       "      <td>David</td>\n",
       "      <td>VP</td>\n",
       "    </tr>\n",
       "  </tbody>\n",
       "</table>\n",
       "</div>"
      ],
      "text/plain": [
       "   Unnamed: 0 Education  Experience   Name      Profession\n",
       "0           0       MBA          10   Jack         Manager\n",
       "1           1        BS           5   Jill         Analyst\n",
       "2           2        MS           2     Em  Data scientist\n",
       "3           3       MBA          20  David              VP"
      ]
     },
     "execution_count": 105,
     "metadata": {},
     "output_type": "execute_result"
    }
   ],
   "source": [
    "# now opening the CSV file\n",
    "csv_data = pd.read_csv(\"emp.csv\")\n",
    "csv_data"
   ]
  },
  {
   "cell_type": "code",
   "execution_count": 106,
   "metadata": {},
   "outputs": [
    {
     "data": {
      "text/plain": [
       "pandas.core.frame.DataFrame"
      ]
     },
     "execution_count": 106,
     "metadata": {},
     "output_type": "execute_result"
    }
   ],
   "source": [
    "# csv_data is a DataFrame datatype\n",
    "# csv_data is a DataFrame datatype\n",
    "type(csv_data)"
   ]
  },
  {
   "cell_type": "code",
   "execution_count": 107,
   "metadata": {},
   "outputs": [
    {
     "data": {
      "text/html": [
       "<div>\n",
       "<style>\n",
       "    .dataframe thead tr:only-child th {\n",
       "        text-align: right;\n",
       "    }\n",
       "\n",
       "    .dataframe thead th {\n",
       "        text-align: left;\n",
       "    }\n",
       "\n",
       "    .dataframe tbody tr th {\n",
       "        vertical-align: top;\n",
       "    }\n",
       "</style>\n",
       "<table border=\"1\" class=\"dataframe\">\n",
       "  <thead>\n",
       "    <tr style=\"text-align: right;\">\n",
       "      <th></th>\n",
       "      <th>Education</th>\n",
       "      <th>Experience</th>\n",
       "      <th>Name</th>\n",
       "      <th>Profession</th>\n",
       "    </tr>\n",
       "  </thead>\n",
       "  <tbody>\n",
       "    <tr>\n",
       "      <th>0</th>\n",
       "      <td>MBA</td>\n",
       "      <td>10</td>\n",
       "      <td>Jack</td>\n",
       "      <td>Manager</td>\n",
       "    </tr>\n",
       "    <tr>\n",
       "      <th>1</th>\n",
       "      <td>BS</td>\n",
       "      <td>5</td>\n",
       "      <td>Jill</td>\n",
       "      <td>Analyst</td>\n",
       "    </tr>\n",
       "    <tr>\n",
       "      <th>2</th>\n",
       "      <td>MS</td>\n",
       "      <td>2</td>\n",
       "      <td>Em</td>\n",
       "      <td>Data scientist</td>\n",
       "    </tr>\n",
       "    <tr>\n",
       "      <th>3</th>\n",
       "      <td>MBA</td>\n",
       "      <td>20</td>\n",
       "      <td>David</td>\n",
       "      <td>VP</td>\n",
       "    </tr>\n",
       "  </tbody>\n",
       "</table>\n",
       "</div>"
      ],
      "text/plain": [
       "  Education  Experience   Name      Profession\n",
       "0       MBA          10   Jack         Manager\n",
       "1        BS           5   Jill         Analyst\n",
       "2        MS           2     Em  Data scientist\n",
       "3       MBA          20  David              VP"
      ]
     },
     "execution_count": 107,
     "metadata": {},
     "output_type": "execute_result"
    }
   ],
   "source": [
    "# selecting data from the dataframe\n",
    "csv_data = csv_data.iloc[:,1:5]\n",
    "csv_data"
   ]
  },
  {
   "cell_type": "code",
   "execution_count": 213,
   "metadata": {},
   "outputs": [],
   "source": [
    "# writing the data to  a sheet employee_data in an excel file \n",
    "df.to_excel(\"emp_1.xls\",sheet_name =\"employee_data\")\n"
   ]
  },
  {
   "cell_type": "code",
   "execution_count": 109,
   "metadata": {},
   "outputs": [
    {
     "data": {
      "text/html": [
       "<div>\n",
       "<style>\n",
       "    .dataframe thead tr:only-child th {\n",
       "        text-align: right;\n",
       "    }\n",
       "\n",
       "    .dataframe thead th {\n",
       "        text-align: left;\n",
       "    }\n",
       "\n",
       "    .dataframe tbody tr th {\n",
       "        vertical-align: top;\n",
       "    }\n",
       "</style>\n",
       "<table border=\"1\" class=\"dataframe\">\n",
       "  <thead>\n",
       "    <tr style=\"text-align: right;\">\n",
       "      <th></th>\n",
       "      <th>Education</th>\n",
       "      <th>Experience</th>\n",
       "      <th>Name</th>\n",
       "      <th>Profession</th>\n",
       "    </tr>\n",
       "  </thead>\n",
       "  <tbody>\n",
       "    <tr>\n",
       "      <th>0</th>\n",
       "      <td>MBA</td>\n",
       "      <td>10</td>\n",
       "      <td>Jack</td>\n",
       "      <td>Manager</td>\n",
       "    </tr>\n",
       "    <tr>\n",
       "      <th>1</th>\n",
       "      <td>BS</td>\n",
       "      <td>5</td>\n",
       "      <td>Jill</td>\n",
       "      <td>Analyst</td>\n",
       "    </tr>\n",
       "    <tr>\n",
       "      <th>2</th>\n",
       "      <td>MS</td>\n",
       "      <td>2</td>\n",
       "      <td>Em</td>\n",
       "      <td>Data scientist</td>\n",
       "    </tr>\n",
       "    <tr>\n",
       "      <th>3</th>\n",
       "      <td>MBA</td>\n",
       "      <td>20</td>\n",
       "      <td>David</td>\n",
       "      <td>VP</td>\n",
       "    </tr>\n",
       "  </tbody>\n",
       "</table>\n",
       "</div>"
      ],
      "text/plain": [
       "  Education  Experience   Name      Profession\n",
       "0       MBA          10   Jack         Manager\n",
       "1        BS           5   Jill         Analyst\n",
       "2        MS           2     Em  Data scientist\n",
       "3       MBA          20  David              VP"
      ]
     },
     "execution_count": 109,
     "metadata": {},
     "output_type": "execute_result"
    }
   ],
   "source": [
    "# Reading excel file with sheet employee data\n",
    "xls_data = pd.read_excel(\"emp_1.xls\", sheetname=\"employee_data\")\n",
    "xls_data"
   ]
  },
  {
   "cell_type": "code",
   "execution_count": 111,
   "metadata": {},
   "outputs": [],
   "source": [
    "#writing data to a json fi;e\n",
    "df.to_json('emp.json')"
   ]
  },
  {
   "cell_type": "code",
   "execution_count": 121,
   "metadata": {},
   "outputs": [
    {
     "data": {
      "text/html": [
       "<div>\n",
       "<style>\n",
       "    .dataframe thead tr:only-child th {\n",
       "        text-align: right;\n",
       "    }\n",
       "\n",
       "    .dataframe thead th {\n",
       "        text-align: left;\n",
       "    }\n",
       "\n",
       "    .dataframe tbody tr th {\n",
       "        vertical-align: top;\n",
       "    }\n",
       "</style>\n",
       "<table border=\"1\" class=\"dataframe\">\n",
       "  <thead>\n",
       "    <tr style=\"text-align: right;\">\n",
       "      <th></th>\n",
       "      <th>Education</th>\n",
       "      <th>Experience</th>\n",
       "      <th>Name</th>\n",
       "      <th>Profession</th>\n",
       "    </tr>\n",
       "  </thead>\n",
       "  <tbody>\n",
       "    <tr>\n",
       "      <th>0</th>\n",
       "      <td>MBA</td>\n",
       "      <td>10</td>\n",
       "      <td>Jack</td>\n",
       "      <td>Manager</td>\n",
       "    </tr>\n",
       "    <tr>\n",
       "      <th>1</th>\n",
       "      <td>BS</td>\n",
       "      <td>5</td>\n",
       "      <td>Jill</td>\n",
       "      <td>Analyst</td>\n",
       "    </tr>\n",
       "    <tr>\n",
       "      <th>2</th>\n",
       "      <td>MS</td>\n",
       "      <td>2</td>\n",
       "      <td>Em</td>\n",
       "      <td>Data scientist</td>\n",
       "    </tr>\n",
       "    <tr>\n",
       "      <th>3</th>\n",
       "      <td>MBA</td>\n",
       "      <td>20</td>\n",
       "      <td>David</td>\n",
       "      <td>VP</td>\n",
       "    </tr>\n",
       "  </tbody>\n",
       "</table>\n",
       "</div>"
      ],
      "text/plain": [
       "  Education  Experience   Name      Profession\n",
       "0       MBA          10   Jack         Manager\n",
       "1        BS           5   Jill         Analyst\n",
       "2        MS           2     Em  Data scientist\n",
       "3       MBA          20  David              VP"
      ]
     },
     "execution_count": 121,
     "metadata": {},
     "output_type": "execute_result"
    }
   ],
   "source": [
    "# reading the data from the json file\n",
    "emp= pd.read_json(\"emp.json\")\n",
    "emp"
   ]
  },
  {
   "cell_type": "code",
   "execution_count": 122,
   "metadata": {},
   "outputs": [
    {
     "data": {
      "text/plain": [
       "{'office': {'medical': [{'price': 75,\n",
       "    'room-number': 100,\n",
       "    'sq-ft': 50,\n",
       "    'use': 'reception'},\n",
       "   {'price': 75, 'room-number': 101, 'sq-ft': 250, 'use': 'waiting'},\n",
       "   {'price': 150, 'room-number': 102, 'sq-ft': 125, 'use': 'examination'},\n",
       "   {'price': 150, 'room-number': 103, 'sq-ft': 125, 'use': 'examination'},\n",
       "   {'price': 100, 'room-number': 104, 'sq-ft': 150, 'use': 'office'}]},\n",
       " 'parking': {'location': 'premium', 'price': 750, 'style': 'covered'}}"
      ]
     },
     "execution_count": 122,
     "metadata": {},
     "output_type": "execute_result"
    }
   ],
   "source": [
    "# loading a json  string to file\n",
    "area_json =\"\"\"\n",
    "{ \"office\": \n",
    "    {\"medical\": [\n",
    "      { \"room-number\": 100,\n",
    "        \"use\": \"reception\",\n",
    "        \"sq-ft\": 50,\n",
    "        \"price\": 75\n",
    "      },\n",
    "      { \"room-number\": 101,\n",
    "        \"use\": \"waiting\",\n",
    "        \"sq-ft\": 250,\n",
    "        \"price\": 75\n",
    "      },\n",
    "      { \"room-number\": 102,\n",
    "        \"use\": \"examination\",\n",
    "        \"sq-ft\": 125,\n",
    "        \"price\": 150\n",
    "      },\n",
    "      { \"room-number\": 103,\n",
    "        \"use\": \"examination\",\n",
    "        \"sq-ft\": 125,\n",
    "        \"price\": 150\n",
    "      },\n",
    "      { \"room-number\": 104,\n",
    "        \"use\": \"office\",\n",
    "        \"sq-ft\": 150,\n",
    "        \"price\": 100\n",
    "      }\n",
    "    ]},\n",
    "    \"parking\": {\n",
    "      \"location\": \"premium\",\n",
    "      \"style\": \"covered\",\n",
    "      \"price\": 750\n",
    "    }\n",
    "} \n",
    "\"\"\"\n",
    "home_data = json.loads(area_json)\n",
    "home_data"
   ]
  },
  {
   "cell_type": "code",
   "execution_count": 215,
   "metadata": {},
   "outputs": [
    {
     "data": {
      "text/plain": [
       "'{\"Name\": [\"Jack\", \"Jill\", \"Em\", \"David\"], \"Profession\": [\"Manager\", \"Analyst\", \"Data scientist\", \"VP\"], \"Experience\": [10, 5, 2, 20], \"Education\": [\"MBA\", \"BS\", \"MS\", \"MBA\"]}'"
      ]
     },
     "execution_count": 215,
     "metadata": {},
     "output_type": "execute_result"
    }
   ],
   "source": [
    "json_data = json.dumps(data)\n",
    "json_data"
   ]
  },
  {
   "cell_type": "code",
   "execution_count": 216,
   "metadata": {},
   "outputs": [
    {
     "data": {
      "text/plain": [
       "str"
      ]
     },
     "execution_count": 216,
     "metadata": {},
     "output_type": "execute_result"
    }
   ],
   "source": [
    "#data type for home data is a dictionary\n",
    "type(json_data)"
   ]
  },
  {
   "cell_type": "code",
   "execution_count": 125,
   "metadata": {},
   "outputs": [
    {
     "data": {
      "text/plain": [
       "list"
      ]
     },
     "execution_count": 125,
     "metadata": {},
     "output_type": "execute_result"
    }
   ],
   "source": [
    "type(bank_data)"
   ]
  },
  {
   "cell_type": "code",
   "execution_count": 228,
   "metadata": {},
   "outputs": [
    {
     "name": "stdout",
     "output_type": "stream",
     "text": [
      "Power of Habit — How to accomplish big goals by making small changes\n",
      "But a few days would pass, and I would find it had slipped my mind.', 'Are you wanting to change things in your life?', 'Are you stuck in the same old circumstances and feel a need to change?', 'Do you want to meet a happy version of yourself in future?', 'Then read on…', 'Just like you I am learning and am striving to become a better version of myself.', 'I wanted to share with you what I have learnt in the past 2–3 years that has made a positive change in my life.\n",
      "Warren Buffet and Bill Gates were my inspirations to make this small but meaningful change in my life.', 'In the past I read one book or less a year.\n",
      "I know I am on the right path and a happy and fulfilled life reminds me that.', 'Please read my future articles on what reading books taught me, Who are other personalities that inspire me and why Warren Buffet and Bill Gates advice is something that I will always be grateful for.']\n"
     ]
    }
   ],
   "source": [
    "import requests\n",
    "import re\n",
    "from bs4 import BeautifulSoup\n",
    "response = requests.get(\"https://medium.com/@arshren/power-of-habit-how-to-accomplishing-big-goals-by-making-small-changes-5872a788fcb8\")\n",
    "soup = BeautifulSoup(response.content,'html.parser')\n",
    "title  = soup.find('title').get_text()\n",
    "\n",
    "any_data = soup.find_all('p', class_=re.compile(\"graf graf--p\"))\n",
    "\n",
    "#intro = soup.find_all('p', class_=\"graf graf--p graf--hasDropCapModel graf--hasDropCap graf--leading\")\n",
    "#para = soup.find_all('p',class_=\"graf graf--p graf-after--p\")\n",
    "#end =soup.find_all('p', class_=\"graf graf--p graf-after--p graf--trailing\")\n",
    "data = intro + para  + end\n",
    "\n",
    "print(title)\n",
    "summ_text = []\n",
    "for p in any_data:\n",
    "   #print(p.get_text())\n",
    "   summ_text.append(p.get_text())\n",
    "from gensim.summarization.summarizer import summarize\n",
    "print(summarize(str(summ_text)))"
   ]
  },
  {
   "cell_type": "code",
   "execution_count": 218,
   "metadata": {},
   "outputs": [
    {
     "data": {
      "text/plain": [
       "bs4.element.ResultSet"
      ]
     },
     "execution_count": 218,
     "metadata": {},
     "output_type": "execute_result"
    }
   ],
   "source": [
    "type(any_data)"
   ]
  },
  {
   "cell_type": "code",
   "execution_count": 131,
   "metadata": {},
   "outputs": [
    {
     "data": {
      "text/plain": [
       "200"
      ]
     },
     "execution_count": 131,
     "metadata": {},
     "output_type": "execute_result"
    }
   ],
   "source": [
    "response.status_code"
   ]
  },
  {
   "cell_type": "code",
   "execution_count": 132,
   "metadata": {},
   "outputs": [
    {
     "data": {
      "text/plain": [
       "b'\\n\\n\\n\\n\\n\\n<!DOCTYPE html>\\n<html lang=\"en\">\\n  <head>\\n    <meta charset=\"utf-8\">\\n  <link rel=\"dns-prefetch\" href=\"https://assets-cdn.github.com\">\\n  <link rel=\"dns-prefetch\" href=\"https://avatars0.githubusercontent.com\">\\n  <link rel=\"dns-prefetch\" href=\"https://avatars1.githubusercontent.com\">\\n  <link rel=\"dns-prefetch\" href=\"https://avatars2.githubusercontent.com\">\\n  <link rel=\"dns-prefetch\" href=\"https://avatars3.githubusercontent.com\">\\n  <link rel=\"dns-prefetch\" href=\"https://github-cloud.s3.amazonaws.com\">\\n  <link rel=\"dns-prefetch\" href=\"https://user-images.githubusercontent.com/\">\\n\\n\\n\\n  <link crossorigin=\"anonymous\" media=\"all\" integrity=\"sha512-Z0JAar9+DkI1NjGVdZr3GivARUgJtA0o2eHlTv7Ou2gshR5awWVf8QGsq11Ns9ZxQLEs+G5/SuARmvpOLMzulw==\" rel=\"stylesheet\" href=\"https://assets-cdn.github.com/assets/frameworks-95aff0b550d3fe338b645a4deebdcb1b.css\" />\\n  <link crossorigin=\"anonymous\" media=\"all\" integrity=\"sha512-cPNe2ujxkLVIsIfpqsGH3fmUuiNQ3wfPV8niT1uB9ziMQTNwKSHIyIBZk4ZAkIYydrF798X7+JQlreQlMNkYXg==\" rel=\"stylesheet\" href=\"https://assets-cdn.github.com/assets/github-9fe41072c7eb61e44d5923e65f8af9fa.css\" />\\n  \\n  \\n  <link crossorigin=\"anonymous\" media=\"all\" integrity=\"sha512-2ThuYzT4A4rqWiPrSjHGQiV5pWat6IhKBOQbt3SI++BucjSUbJlzSD2S9h0pM5UHlP1KpvSk9YtKp0JinP+yVQ==\" rel=\"stylesheet\" href=\"https://assets-cdn.github.com/assets/site-2dc8680244624c331677d1cfd1af7370.css\" />\\n  \\n\\n  <meta name=\"viewport\" content=\"width=device-width\">\\n  \\n  <title>Data-Structures/Python Data Structure- DataFrame.ipynb at master \\xc2\\xb7 arshren/Data-Structures \\xc2\\xb7 GitHub</title>\\n    <meta name=\"description\" content=\"Contains Code snippets for different Python Data Structure and how  their operations - arshren/Data-Structures\">\\n    <link rel=\"search\" type=\"application/opensearchdescription+xml\" href=\"/opensearch.xml\" title=\"GitHub\">\\n  <link rel=\"fluid-icon\" href=\"https://github.com/fluidicon.png\" title=\"GitHub\">\\n  <meta property=\"fb:app_id\" content=\"1401488693436528\">\\n\\n    \\n    <meta property=\"og:image\" content=\"https://avatars0.githubusercontent.com/u/28999621?s=400&amp;v=4\" /><meta property=\"og:site_name\" content=\"GitHub\" /><meta property=\"og:type\" content=\"object\" /><meta property=\"og:title\" content=\"arshren/Data-Structures\" /><meta property=\"og:url\" content=\"https://github.com/arshren/Data-Structures\" /><meta property=\"og:description\" content=\"Contains Code snippets for different Python Data Structure and how  their operations - arshren/Data-Structures\" />\\n\\n  <link rel=\"assets\" href=\"https://assets-cdn.github.com/\">\\n  \\n  <meta name=\"pjax-timeout\" content=\"1000\">\\n  \\n  <meta name=\"request-id\" content=\"DD7A:01CD:10FBFC3:1958A89:5B951199\" data-pjax-transient>\\n\\n\\n  \\n\\n  <meta name=\"selected-link\" value=\"repo_source\" data-pjax-transient>\\n\\n      <meta name=\"google-site-verification\" content=\"KT5gs8h0wvaagLKAVWq8bbeNwnZZK1r1XQysX3xurLU\">\\n    <meta name=\"google-site-verification\" content=\"ZzhVyEFwb7w3e0-uOTltm8Jsck2F5StVihD0exw2fsA\">\\n    <meta name=\"google-site-verification\" content=\"GXs5KoUUkNCoaAZn7wPN-t01Pywp9M3sEjnt_3_ZWPc\">\\n\\n  <meta name=\"octolytics-host\" content=\"collector.githubapp.com\" /><meta name=\"octolytics-app-id\" content=\"github\" /><meta name=\"octolytics-event-url\" content=\"https://collector.githubapp.com/github-external/browser_event\" /><meta name=\"octolytics-dimension-request_id\" content=\"DD7A:01CD:10FBFC3:1958A89:5B951199\" /><meta name=\"octolytics-dimension-region_edge\" content=\"iad\" /><meta name=\"octolytics-dimension-region_render\" content=\"iad\" />\\n<meta name=\"analytics-location\" content=\"/&lt;user-name&gt;/&lt;repo-name&gt;/blob/show\" data-pjax-transient=\"true\" />\\n\\n\\n\\n    <meta name=\"google-analytics\" content=\"UA-3769691-2\">\\n\\n\\n<meta class=\"js-ga-set\" name=\"dimension1\" content=\"Logged Out\">\\n\\n\\n\\n  \\n\\n      <meta name=\"hostname\" content=\"github.com\">\\n    <meta name=\"user-login\" content=\"\">\\n\\n      <meta name=\"expected-hostname\" content=\"github.com\">\\n    <meta name=\"js-proxy-site-detection-payload\" content=\"OWM0NjNiZDU4MmE0ZTI3ZmJhOWE2NmJkYzkzZmFmMmM0M2U0NzNkZDU2NmI2N2E1NzBiOTJlOGRkNWJkNTcyZXx7InJlbW90ZV9hZGRyZXNzIjoiNDUuMjAuOC43NSIsInJlcXVlc3RfaWQiOiJERDdBOjAxQ0Q6MTBGQkZDMzoxOTU4QTg5OjVCOTUxMTk5IiwidGltZXN0YW1wIjoxNTM2NDk2MDI1LCJob3N0IjoiZ2l0aHViLmNvbSJ9\">\\n\\n    <meta name=\"enabled-features\" content=\"DASHBOARD_V2_LAYOUT_OPT_IN,EXPLORE_DISCOVER_REPOSITORIES,UNIVERSE_BANNER,FREE_TRIALS,MARKETPLACE_INSIGHTS,MARKETPLACE_PLAN_RESTRICTION_EDITOR,MARKETPLACE_SEARCH,MARKETPLACE_INSIGHTS_CONVERSION_PERCENTAGES\">\\n\\n  <meta name=\"html-safe-nonce\" content=\"695b47ccb8a0c1a67b4c4dec642472f9be0ac6e5\">\\n\\n  <meta http-equiv=\"x-pjax-version\" content=\"6b7e6d96a2f79f5bade0db1e03a49484\">\\n  \\n\\n      <link href=\"https://github.com/arshren/Data-Structures/commits/master.atom\" rel=\"alternate\" title=\"Recent Commits to Data-Structures:master\" type=\"application/atom+xml\">\\n\\n  <meta name=\"go-import\" content=\"github.com/arshren/Data-Structures git https://github.com/arshren/Data-Structures.git\">\\n\\n  <meta name=\"octolytics-dimension-user_id\" content=\"28999621\" /><meta name=\"octolytics-dimension-user_login\" content=\"arshren\" /><meta name=\"octolytics-dimension-repository_id\" content=\"133649378\" /><meta name=\"octolytics-dimension-repository_nwo\" content=\"arshren/Data-Structures\" /><meta name=\"octolytics-dimension-repository_public\" content=\"true\" /><meta name=\"octolytics-dimension-repository_is_fork\" content=\"false\" /><meta name=\"octolytics-dimension-repository_network_root_id\" content=\"133649378\" /><meta name=\"octolytics-dimension-repository_network_root_nwo\" content=\"arshren/Data-Structures\" /><meta name=\"octolytics-dimension-repository_explore_github_marketplace_ci_cta_shown\" content=\"false\" />\\n\\n\\n    <link rel=\"canonical\" href=\"https://github.com/arshren/Data-Structures/blob/master/Python%20Data%20Structure-%20DataFrame.ipynb\" data-pjax-transient>\\n\\n\\n  <meta name=\"browser-stats-url\" content=\"https://api.github.com/_private/browser/stats\">\\n\\n  <meta name=\"browser-errors-url\" content=\"https://api.github.com/_private/browser/errors\">\\n\\n  <link rel=\"mask-icon\" href=\"https://assets-cdn.github.com/pinned-octocat.svg\" color=\"#000000\">\\n  <link rel=\"icon\" type=\"image/x-icon\" class=\"js-site-favicon\" href=\"https://assets-cdn.github.com/favicon.ico\">\\n\\n<meta name=\"theme-color\" content=\"#1e2327\">\\n\\n\\n\\n  <link rel=\"manifest\" href=\"/manifest.json\" crossOrigin=\"use-credentials\">\\n\\n  </head>\\n\\n  <body class=\"logged-out env-production page-blob\">\\n    \\n\\n  <div class=\"position-relative js-header-wrapper \">\\n    <a href=\"#start-of-content\" tabindex=\"1\" class=\"px-2 py-4 bg-blue text-white show-on-focus js-skip-to-content\">Skip to content</a>\\n    <div id=\"js-pjax-loader-bar\" class=\"pjax-loader-bar\"><div class=\"progress\"></div></div>\\n\\n    \\n    \\n    \\n\\n\\n\\n        \\n\\n\\n  <header class=\"Header header-logged-out  position-relative f4 py-3\" role=\"banner\" >\\n    <div class=\"container-lg d-flex px-3\">\\n      <div class=\"d-flex flex-justify-between flex-items-center\">\\n        <a class=\"header-logo-invertocat my-0\" href=\"https://github.com/\" aria-label=\"Homepage\" data-ga-click=\"(Logged out) Header, go to homepage, icon:logo-wordmark; experiment:site_header_dropdowns; group:control\">\\n          <svg height=\"32\" class=\"octicon octicon-mark-github\" viewBox=\"0 0 16 16\" version=\"1.1\" width=\"32\" aria-hidden=\"true\"><path fill-rule=\"evenodd\" d=\"M8 0C3.58 0 0 3.58 0 8c0 3.54 2.29 6.53 5.47 7.59.4.07.55-.17.55-.38 0-.19-.01-.82-.01-1.49-2.01.37-2.53-.49-2.69-.94-.09-.23-.48-.94-.82-1.13-.28-.15-.68-.52-.01-.53.63-.01 1.08.58 1.23.82.72 1.21 1.87.87 2.33.66.07-.52.28-.87.51-1.07-1.78-.2-3.64-.89-3.64-3.95 0-.87.31-1.59.82-2.15-.08-.2-.36-1.02.08-2.12 0 0 .67-.21 2.2.82.64-.18 1.32-.27 2-.27.68 0 1.36.09 2 .27 1.53-1.04 2.2-.82 2.2-.82.44 1.1.16 1.92.08 2.12.51.56.82 1.27.82 2.15 0 3.07-1.87 3.75-3.65 3.95.29.25.54.73.54 1.48 0 1.07-.01 1.93-.01 2.2 0 .21.15.46.55.38A8.013 8.013 0 0 0 16 8c0-4.42-3.58-8-8-8z\"/></svg>\\n        </a>\\n\\n      </div>\\n\\n      <div class=\"HeaderMenu d-flex flex-justify-between flex-auto\">\\n          <nav class=\"mt-0\">\\n            <ul class=\"d-flex list-style-none\">\\n                <li class=\"ml-2\">\\n                  <a class=\"js-selected-navigation-item HeaderNavlink px-0 py-2 m-0\" data-ga-click=\"Header, click, Nav menu - item:features; experiment:site_header_dropdowns; group:control\" data-selected-links=\"/features /features/project-management /features/code-review /features/project-management /features/integrations /features\" href=\"/features\">\\n                    Features\\n</a>                </li>\\n                <li class=\"ml-4\">\\n                  <a class=\"js-selected-navigation-item HeaderNavlink px-0 py-2 m-0\" data-ga-click=\"Header, click, Nav menu - item:business; experiment:site_header_dropdowns; group:control\" data-selected-links=\"/business /business/security /business/customers /business\" href=\"/business\">\\n                    Business\\n</a>                </li>\\n\\n                <li class=\"ml-4\">\\n                  <a class=\"js-selected-navigation-item HeaderNavlink px-0 py-2 m-0\" data-ga-click=\"Header, click, Nav menu - item:explore; experiment:site_header_dropdowns; group:control\" data-selected-links=\"/explore /trending /trending/developers /integrations /integrations/feature/code /integrations/feature/collaborate /integrations/feature/ship showcases showcases_search showcases_landing /explore\" href=\"/explore\">\\n                    Explore\\n</a>                </li>\\n\\n                <li class=\"ml-4\">\\n                      <a class=\"js-selected-navigation-item HeaderNavlink px-0 py-2 m-0\" data-ga-click=\"Header, click, Nav menu - item:marketplace; experiment:site_header_dropdowns; group:control\" data-selected-links=\" /marketplace\" href=\"/marketplace\">\\n                        Marketplace\\n</a>                </li>\\n                <li class=\"ml-4\">\\n                  <a class=\"js-selected-navigation-item HeaderNavlink px-0 py-2 m-0\" data-ga-click=\"Header, click, Nav menu - item:pricing; experiment:site_header_dropdowns; group:control\" data-selected-links=\"/pricing /pricing/developer /pricing/team /pricing/business-hosted /pricing/business-enterprise /pricing\" href=\"/pricing\">\\n                    Pricing\\n</a>                </li>\\n            </ul>\\n          </nav>\\n\\n        <div class=\"d-flex\">\\n            <div class=\"d-lg-flex flex-items-center mr-3\">\\n              <div class=\"header-search scoped-search site-scoped-search js-site-search position-relative js-jump-to\"\\n  role=\"search combobox\"\\n  aria-owns=\"jump-to-results\"\\n  aria-label=\"Search or jump to\"\\n  aria-haspopup=\"listbox\"\\n  aria-expanded=\"true\"\\n>\\n  <div class=\"position-relative\">\\n    <!-- \\'\"` --><!-- </textarea></xmp> --></option></form><form class=\"js-site-search-form\" data-scope-type=\"Repository\" data-scope-id=\"133649378\" data-scoped-search-url=\"/arshren/Data-Structures/search\" data-unscoped-search-url=\"/search\" action=\"/arshren/Data-Structures/search\" accept-charset=\"UTF-8\" method=\"get\"><input name=\"utf8\" type=\"hidden\" value=\"&#x2713;\" />\\n      <label class=\"form-control header-search-wrapper header-search-wrapper-jump-to position-relative d-flex flex-justify-between flex-items-center js-chromeless-input-container\">\\n        <input type=\"text\"\\n          class=\"form-control header-search-input jump-to-field js-jump-to-field js-site-search-focus js-site-search-field is-clearable\"\\n          data-hotkey=\"s,/\"\\n          name=\"q\"\\n          value=\"\"\\n          placeholder=\"Search\"\\n          data-unscoped-placeholder=\"Search GitHub\"\\n          data-scoped-placeholder=\"Search\"\\n          autocapitalize=\"off\"\\n          aria-autocomplete=\"list\"\\n          aria-controls=\"jump-to-results\"\\n          data-jump-to-suggestions-path=\"/_graphql/GetSuggestedNavigationDestinations#csrf-token=NI5JAnerUWeaki0d1Kph48w/bX07dBAJZFIpP3fuogp8zSxh6lPZwdzJu370LqcvNZH1ZeXdkm9wsC/SfAxBFQ==\"\\n          spellcheck=\"false\"\\n          autocomplete=\"off\"\\n          >\\n          <input type=\"hidden\" class=\"js-site-search-type-field\" name=\"type\" >\\n            <img src=\"https://assets-cdn.github.com/images/search-shortcut-hint.svg\" alt=\"\" class=\"mr-2 header-search-key-slash\">\\n\\n            <div class=\"Box position-absolute overflow-hidden d-none jump-to-suggestions js-jump-to-suggestions-container\">\\n              <ul class=\"d-none js-jump-to-suggestions-template-container\">\\n                <li class=\"d-flex flex-justify-start flex-items-center p-0 f5 navigation-item js-navigation-item\">\\n                  <a tabindex=\"-1\" class=\"no-underline d-flex flex-auto flex-items-center p-2 jump-to-suggestions-path js-jump-to-suggestion-path js-navigation-open\" href=\"\">\\n                    <div class=\"jump-to-octicon js-jump-to-octicon mr-2 text-center d-none\">\\n                      <svg height=\"16\" width=\"16\" class=\"octicon octicon-repo flex-shrink-0 js-jump-to-octicon-repo d-none\" title=\"Repository\" aria-label=\"Repository\" viewBox=\"0 0 12 16\" version=\"1.1\" role=\"img\"><path fill-rule=\"evenodd\" d=\"M4 9H3V8h1v1zm0-3H3v1h1V6zm0-2H3v1h1V4zm0-2H3v1h1V2zm8-1v12c0 .55-.45 1-1 1H6v2l-1.5-1.5L3 16v-2H1c-.55 0-1-.45-1-1V1c0-.55.45-1 1-1h10c.55 0 1 .45 1 1zm-1 10H1v2h2v-1h3v1h5v-2zm0-10H2v9h9V1z\"/></svg>\\n                      <svg height=\"16\" width=\"16\" class=\"octicon octicon-project flex-shrink-0 js-jump-to-octicon-project d-none\" title=\"Project\" aria-label=\"Project\" viewBox=\"0 0 15 16\" version=\"1.1\" role=\"img\"><path fill-rule=\"evenodd\" d=\"M10 12h3V2h-3v10zm-4-2h3V2H6v8zm-4 4h3V2H2v12zm-1 1h13V1H1v14zM14 0H1a1 1 0 0 0-1 1v14a1 1 0 0 0 1 1h13a1 1 0 0 0 1-1V1a1 1 0 0 0-1-1z\"/></svg>\\n                      <svg height=\"16\" width=\"16\" class=\"octicon octicon-search flex-shrink-0 js-jump-to-octicon-search d-none\" title=\"Search\" aria-label=\"Search\" viewBox=\"0 0 16 16\" version=\"1.1\" role=\"img\"><path fill-rule=\"evenodd\" d=\"M15.7 13.3l-3.81-3.83A5.93 5.93 0 0 0 13 6c0-3.31-2.69-6-6-6S1 2.69 1 6s2.69 6 6 6c1.3 0 2.48-.41 3.47-1.11l3.83 3.81c.19.2.45.3.7.3.25 0 .52-.09.7-.3a.996.996 0 0 0 0-1.41v.01zM7 10.7c-2.59 0-4.7-2.11-4.7-4.7 0-2.59 2.11-4.7 4.7-4.7 2.59 0 4.7 2.11 4.7 4.7 0 2.59-2.11 4.7-4.7 4.7z\"/></svg>\\n                    </div>\\n\\n                    <img class=\"avatar mr-2 flex-shrink-0 js-jump-to-suggestion-avatar d-none\" alt=\"\" aria-label=\"Team\" src=\"\" width=\"28\" height=\"28\">\\n\\n                    <div class=\"jump-to-suggestion-name js-jump-to-suggestion-name flex-auto overflow-hidden text-left no-wrap css-truncate css-truncate-target\">\\n                    </div>\\n\\n                    <div class=\"border rounded-1 flex-shrink-0 bg-gray px-1 text-gray-light ml-1 f6 d-none js-jump-to-badge-search\">\\n                      <span class=\"js-jump-to-badge-search-text-default d-none\" aria-label=\"in this repository\">\\n                        In this repository\\n                      </span>\\n                      <span class=\"js-jump-to-badge-search-text-global d-none\" aria-label=\"in all of GitHub\">\\n                        All GitHub\\n                      </span>\\n                      <span aria-hidden=\"true\" class=\"d-inline-block ml-1 v-align-middle\">\\xe2\\x86\\xb5</span>\\n                    </div>\\n\\n                    <div aria-hidden=\"true\" class=\"border rounded-1 flex-shrink-0 bg-gray px-1 text-gray-light ml-1 f6 d-none d-on-nav-focus js-jump-to-badge-jump\">\\n                      Jump to\\n                      <span class=\"d-inline-block ml-1 v-align-middle\">\\xe2\\x86\\xb5</span>\\n                    </div>\\n                  </a>\\n                </li>\\n              </ul>\\n              <ul class=\"d-none js-jump-to-no-results-template-container\">\\n                <li class=\"d-flex flex-justify-center flex-items-center p-3 f5 d-none\">\\n                  <span class=\"text-gray\">No suggested jump to results</span>\\n                </li>\\n              </ul>\\n\\n              <ul id=\"jump-to-results\" class=\"js-navigation-container jump-to-suggestions-results-container js-jump-to-suggestions-results-container\" >\\n                <li class=\"d-flex flex-justify-center flex-items-center p-0 f5\">\\n                  <img src=\"https://assets-cdn.github.com/images/spinners/octocat-spinner-128.gif\" alt=\"Octocat Spinner Icon\" class=\"m-2\" width=\"28\">\\n                </li>\\n              </ul>\\n            </div>\\n      </label>\\n</form>  </div>\\n</div>\\n\\n            </div>\\n\\n          <span class=\"d-inline-block\">\\n              <div class=\"HeaderNavlink px-0 py-2 m-0\">\\n                <a class=\"text-bold text-white no-underline\" href=\"/login?return_to=%2Farshren%2FData-Structures%2Fblob%2Fmaster%2FPython%2520Data%2520Structure-%2520DataFrame.ipynb\" data-ga-click=\"(Logged out) Header, clicked Sign in, text:sign-in; experiment:site_header_dropdowns; group:control\">Sign in</a>\\n                  <span class=\"text-gray\">or</span>\\n                  <a class=\"text-bold text-white no-underline\" href=\"/join?source=header-repo\" data-ga-click=\"(Logged out) Header, clicked Sign up, text:sign-up; experiment:site_header_dropdowns; group:control\">Sign up</a>\\n              </div>\\n          </span>\\n        </div>\\n      </div>\\n    </div>\\n  </header>\\n\\n  </div>\\n\\n  <div id=\"start-of-content\" class=\"show-on-focus\"></div>\\n\\n    <div id=\"js-flash-container\">\\n\\n\\n</div>\\n\\n\\n\\n  <div role=\"main\" class=\"application-main \">\\n        <div itemscope itemtype=\"http://schema.org/SoftwareSourceCode\" class=\"\">\\n    <div id=\"js-repo-pjax-container\" data-pjax-container >\\n      \\n\\n\\n\\n\\n\\n\\n\\n  <div class=\"pagehead repohead instapaper_ignore readability-menu experiment-repo-nav  \">\\n    <div class=\"repohead-details-container clearfix container\">\\n\\n      <ul class=\"pagehead-actions\">\\n  <li>\\n      <a href=\"/login?return_to=%2Farshren%2FData-Structures\"\\n    class=\"btn btn-sm btn-with-count tooltipped tooltipped-s\"\\n    aria-label=\"You must be signed in to watch a repository\" rel=\"nofollow\">\\n    <svg class=\"octicon octicon-eye v-align-text-bottom\" viewBox=\"0 0 16 16\" version=\"1.1\" width=\"16\" height=\"16\" aria-hidden=\"true\"><path fill-rule=\"evenodd\" d=\"M8.06 2C3 2 0 8 0 8s3 6 8.06 6C13 14 16 8 16 8s-3-6-7.94-6zM8 12c-2.2 0-4-1.78-4-4 0-2.2 1.8-4 4-4 2.22 0 4 1.8 4 4 0 2.22-1.78 4-4 4zm2-4c0 1.11-.89 2-2 2-1.11 0-2-.89-2-2 0-1.11.89-2 2-2 1.11 0 2 .89 2 2z\"/></svg>\\n    Watch\\n  </a>\\n  <a class=\"social-count\" href=\"/arshren/Data-Structures/watchers\"\\n     aria-label=\"1 user is watching this repository\">\\n    1\\n  </a>\\n\\n  </li>\\n\\n  <li>\\n      <a href=\"/login?return_to=%2Farshren%2FData-Structures\"\\n    class=\"btn btn-sm btn-with-count tooltipped tooltipped-s\"\\n    aria-label=\"You must be signed in to star a repository\" rel=\"nofollow\">\\n    <svg class=\"octicon octicon-star v-align-text-bottom\" viewBox=\"0 0 14 16\" version=\"1.1\" width=\"14\" height=\"16\" aria-hidden=\"true\"><path fill-rule=\"evenodd\" d=\"M14 6l-4.9-.64L7 1 4.9 5.36 0 6l3.6 3.26L2.67 14 7 11.67 11.33 14l-.93-4.74L14 6z\"/></svg>\\n    Star\\n  </a>\\n\\n    <a class=\"social-count js-social-count\" href=\"/arshren/Data-Structures/stargazers\"\\n      aria-label=\"0 users starred this repository\">\\n      0\\n    </a>\\n\\n  </li>\\n\\n  <li>\\n      <a href=\"/login?return_to=%2Farshren%2FData-Structures\"\\n        class=\"btn btn-sm btn-with-count tooltipped tooltipped-s\"\\n        aria-label=\"You must be signed in to fork a repository\" rel=\"nofollow\">\\n        <svg class=\"octicon octicon-repo-forked v-align-text-bottom\" viewBox=\"0 0 10 16\" version=\"1.1\" width=\"10\" height=\"16\" aria-hidden=\"true\"><path fill-rule=\"evenodd\" d=\"M8 1a1.993 1.993 0 0 0-1 3.72V6L5 8 3 6V4.72A1.993 1.993 0 0 0 2 1a1.993 1.993 0 0 0-1 3.72V6.5l3 3v1.78A1.993 1.993 0 0 0 5 15a1.993 1.993 0 0 0 1-3.72V9.5l3-3V4.72A1.993 1.993 0 0 0 8 1zM2 4.2C1.34 4.2.8 3.65.8 3c0-.65.55-1.2 1.2-1.2.65 0 1.2.55 1.2 1.2 0 .65-.55 1.2-1.2 1.2zm3 10c-.66 0-1.2-.55-1.2-1.2 0-.65.55-1.2 1.2-1.2.65 0 1.2.55 1.2 1.2 0 .65-.55 1.2-1.2 1.2zm3-10c-.66 0-1.2-.55-1.2-1.2 0-.65.55-1.2 1.2-1.2.65 0 1.2.55 1.2 1.2 0 .65-.55 1.2-1.2 1.2z\"/></svg>\\n        Fork\\n      </a>\\n\\n    <a href=\"/arshren/Data-Structures/network/members\" class=\"social-count\"\\n       aria-label=\"0 users forked this repository\">\\n      0\\n    </a>\\n  </li>\\n</ul>\\n\\n      <h1 class=\"public \">\\n  <svg class=\"octicon octicon-repo\" viewBox=\"0 0 12 16\" version=\"1.1\" width=\"12\" height=\"16\" aria-hidden=\"true\"><path fill-rule=\"evenodd\" d=\"M4 9H3V8h1v1zm0-3H3v1h1V6zm0-2H3v1h1V4zm0-2H3v1h1V2zm8-1v12c0 .55-.45 1-1 1H6v2l-1.5-1.5L3 16v-2H1c-.55 0-1-.45-1-1V1c0-.55.45-1 1-1h10c.55 0 1 .45 1 1zm-1 10H1v2h2v-1h3v1h5v-2zm0-10H2v9h9V1z\"/></svg>\\n  <span class=\"author\" itemprop=\"author\"><a class=\"url fn\" rel=\"author\" href=\"/arshren\">arshren</a></span><!--\\n--><span class=\"path-divider\">/</span><!--\\n--><strong itemprop=\"name\"><a data-pjax=\"#js-repo-pjax-container\" href=\"/arshren/Data-Structures\">Data-Structures</a></strong>\\n\\n</h1>\\n\\n    </div>\\n    \\n<nav class=\"reponav js-repo-nav js-sidenav-container-pjax container\"\\n     itemscope\\n     itemtype=\"http://schema.org/BreadcrumbList\"\\n     role=\"navigation\"\\n     data-pjax=\"#js-repo-pjax-container\">\\n\\n  <span itemscope itemtype=\"http://schema.org/ListItem\" itemprop=\"itemListElement\">\\n    <a class=\"js-selected-navigation-item selected reponav-item\" itemprop=\"url\" data-hotkey=\"g c\" data-selected-links=\"repo_source repo_downloads repo_commits repo_releases repo_tags repo_branches repo_packages /arshren/Data-Structures\" href=\"/arshren/Data-Structures\">\\n      <svg class=\"octicon octicon-code\" viewBox=\"0 0 14 16\" version=\"1.1\" width=\"14\" height=\"16\" aria-hidden=\"true\"><path fill-rule=\"evenodd\" d=\"M9.5 3L8 4.5 11.5 8 8 11.5 9.5 13 14 8 9.5 3zm-5 0L0 8l4.5 5L6 11.5 2.5 8 6 4.5 4.5 3z\"/></svg>\\n      <span itemprop=\"name\">Code</span>\\n      <meta itemprop=\"position\" content=\"1\">\\n</a>  </span>\\n\\n    <span itemscope itemtype=\"http://schema.org/ListItem\" itemprop=\"itemListElement\">\\n      <a itemprop=\"url\" data-hotkey=\"g i\" class=\"js-selected-navigation-item reponav-item\" data-selected-links=\"repo_issues repo_labels repo_milestones /arshren/Data-Structures/issues\" href=\"/arshren/Data-Structures/issues\">\\n        <svg class=\"octicon octicon-issue-opened\" viewBox=\"0 0 14 16\" version=\"1.1\" width=\"14\" height=\"16\" aria-hidden=\"true\"><path fill-rule=\"evenodd\" d=\"M7 2.3c3.14 0 5.7 2.56 5.7 5.7s-2.56 5.7-5.7 5.7A5.71 5.71 0 0 1 1.3 8c0-3.14 2.56-5.7 5.7-5.7zM7 1C3.14 1 0 4.14 0 8s3.14 7 7 7 7-3.14 7-7-3.14-7-7-7zm1 3H6v5h2V4zm0 6H6v2h2v-2z\"/></svg>\\n        <span itemprop=\"name\">Issues</span>\\n        <span class=\"Counter\">0</span>\\n        <meta itemprop=\"position\" content=\"2\">\\n</a>    </span>\\n\\n  <span itemscope itemtype=\"http://schema.org/ListItem\" itemprop=\"itemListElement\">\\n    <a data-hotkey=\"g p\" itemprop=\"url\" class=\"js-selected-navigation-item reponav-item\" data-selected-links=\"repo_pulls checks /arshren/Data-Structures/pulls\" href=\"/arshren/Data-Structures/pulls\">\\n      <svg class=\"octicon octicon-git-pull-request\" viewBox=\"0 0 12 16\" version=\"1.1\" width=\"12\" height=\"16\" aria-hidden=\"true\"><path fill-rule=\"evenodd\" d=\"M11 11.28V5c-.03-.78-.34-1.47-.94-2.06C9.46 2.35 8.78 2.03 8 2H7V0L4 3l3 3V4h1c.27.02.48.11.69.31.21.2.3.42.31.69v6.28A1.993 1.993 0 0 0 10 15a1.993 1.993 0 0 0 1-3.72zm-1 2.92c-.66 0-1.2-.55-1.2-1.2 0-.65.55-1.2 1.2-1.2.65 0 1.2.55 1.2 1.2 0 .65-.55 1.2-1.2 1.2zM4 3c0-1.11-.89-2-2-2a1.993 1.993 0 0 0-1 3.72v6.56A1.993 1.993 0 0 0 2 15a1.993 1.993 0 0 0 1-3.72V4.72c.59-.34 1-.98 1-1.72zm-.8 10c0 .66-.55 1.2-1.2 1.2-.65 0-1.2-.55-1.2-1.2 0-.65.55-1.2 1.2-1.2.65 0 1.2.55 1.2 1.2zM2 4.2C1.34 4.2.8 3.65.8 3c0-.65.55-1.2 1.2-1.2.65 0 1.2.55 1.2 1.2 0 .65-.55 1.2-1.2 1.2z\"/></svg>\\n      <span itemprop=\"name\">Pull requests</span>\\n      <span class=\"Counter\">0</span>\\n      <meta itemprop=\"position\" content=\"3\">\\n</a>  </span>\\n\\n    <a data-hotkey=\"g b\" class=\"js-selected-navigation-item reponav-item\" data-selected-links=\"repo_projects new_repo_project repo_project /arshren/Data-Structures/projects\" href=\"/arshren/Data-Structures/projects\">\\n      <svg class=\"octicon octicon-project\" viewBox=\"0 0 15 16\" version=\"1.1\" width=\"15\" height=\"16\" aria-hidden=\"true\"><path fill-rule=\"evenodd\" d=\"M10 12h3V2h-3v10zm-4-2h3V2H6v8zm-4 4h3V2H2v12zm-1 1h13V1H1v14zM14 0H1a1 1 0 0 0-1 1v14a1 1 0 0 0 1 1h13a1 1 0 0 0 1-1V1a1 1 0 0 0-1-1z\"/></svg>\\n      Projects\\n      <span class=\"Counter\" >0</span>\\n</a>\\n\\n\\n\\n  <a class=\"js-selected-navigation-item reponav-item\" data-selected-links=\"repo_graphs repo_contributors dependency_graph pulse /arshren/Data-Structures/pulse\" href=\"/arshren/Data-Structures/pulse\">\\n    <svg class=\"octicon octicon-graph\" viewBox=\"0 0 16 16\" version=\"1.1\" width=\"16\" height=\"16\" aria-hidden=\"true\"><path fill-rule=\"evenodd\" d=\"M16 14v1H0V0h1v14h15zM5 13H3V8h2v5zm4 0H7V3h2v10zm4 0h-2V6h2v7z\"/></svg>\\n    Insights\\n</a>\\n\\n</nav>\\n\\n\\n  </div>\\n\\n<div class=\"container new-discussion-timeline experiment-repo-nav  \">\\n  <div class=\"repository-content \">\\n\\n    \\n  <a class=\"d-none js-permalink-shortcut\" data-hotkey=\"y\" href=\"/arshren/Data-Structures/blob/681e1e866fff094e803b387e925228b0f4aeeef2/Python%20Data%20Structure-%20DataFrame.ipynb\">Permalink</a>\\n\\n  <!-- blob contrib key: blob_contributors:v21:1cf163e2cf03882fdd61ff925cc20045 -->\\n\\n      <div class=\"signup-prompt-bg rounded-1\">\\n      <div class=\"signup-prompt p-4 text-center mb-4 rounded-1\">\\n        <div class=\"position-relative\">\\n          <!-- \\'\"` --><!-- </textarea></xmp> --></option></form><form action=\"/site/dismiss_signup_prompt\" accept-charset=\"UTF-8\" method=\"post\"><input name=\"utf8\" type=\"hidden\" value=\"&#x2713;\" /><input type=\"hidden\" name=\"authenticity_token\" value=\"4Xg5jmu6b+FTozOAjjkJkAVRzAQvCEb11hUPcqglR3bO6bvNhGQ9lmtGOEyY8OL0omz+j5rgRmyu+wXp8dRmqg==\" />\\n            <button type=\"submit\" class=\"position-absolute top-0 right-0 btn-link link-gray\" data-ga-click=\"(Logged out) Sign up prompt, clicked Dismiss, text:dismiss\">\\n              Dismiss\\n            </button>\\n</form>          <h3 class=\"pt-2\">Join GitHub today</h3>\\n          <p class=\"col-6 mx-auto\">GitHub is home to over 28 million developers working together to host and review code, manage projects, and build software together.</p>\\n          <a class=\"btn btn-primary\" href=\"/join?source=prompt-blob-show\" data-ga-click=\"(Logged out) Sign up prompt, clicked Sign up, text:sign-up\">Sign up</a>\\n        </div>\\n      </div>\\n    </div>\\n\\n\\n  <div class=\"file-navigation\">\\n    \\n<div class=\"select-menu branch-select-menu js-menu-container js-select-menu float-left\">\\n  <button class=\" btn btn-sm select-menu-button js-menu-target css-truncate\" data-hotkey=\"w\"\\n    \\n    type=\"button\" aria-label=\"Switch branches or tags\" aria-expanded=\"false\" aria-haspopup=\"true\">\\n      <i>Branch:</i>\\n      <span class=\"js-select-button css-truncate-target\">master</span>\\n  </button>\\n\\n  <div class=\"select-menu-modal-holder js-menu-content js-navigation-container\" data-pjax>\\n\\n    <div class=\"select-menu-modal\">\\n      <div class=\"select-menu-header\">\\n        <svg class=\"octicon octicon-x js-menu-close\" role=\"img\" aria-label=\"Close\" viewBox=\"0 0 12 16\" version=\"1.1\" width=\"12\" height=\"16\"><path fill-rule=\"evenodd\" d=\"M7.48 8l3.75 3.75-1.48 1.48L6 9.48l-3.75 3.75-1.48-1.48L4.52 8 .77 4.25l1.48-1.48L6 6.52l3.75-3.75 1.48 1.48L7.48 8z\"/></svg>\\n        <span class=\"select-menu-title\">Switch branches/tags</span>\\n      </div>\\n\\n      <div class=\"select-menu-filters\">\\n        <div class=\"select-menu-text-filter\">\\n          <input type=\"text\" aria-label=\"Filter branches/tags\" id=\"context-commitish-filter-field\" class=\"form-control js-filterable-field js-navigation-enable\" placeholder=\"Filter branches/tags\">\\n        </div>\\n        <div class=\"select-menu-tabs\">\\n          <ul>\\n            <li class=\"select-menu-tab\">\\n              <a href=\"#\" data-tab-filter=\"branches\" data-filter-placeholder=\"Filter branches/tags\" class=\"js-select-menu-tab\" role=\"tab\">Branches</a>\\n            </li>\\n            <li class=\"select-menu-tab\">\\n              <a href=\"#\" data-tab-filter=\"tags\" data-filter-placeholder=\"Find a tag\\xe2\\x80\\xa6\" class=\"js-select-menu-tab\" role=\"tab\">Tags</a>\\n            </li>\\n          </ul>\\n        </div>\\n      </div>\\n\\n      <div class=\"select-menu-list select-menu-tab-bucket js-select-menu-tab-bucket\" data-tab-filter=\"branches\" role=\"menu\">\\n\\n        <div data-filterable-for=\"context-commitish-filter-field\" data-filterable-type=\"substring\">\\n\\n\\n            <a class=\"select-menu-item js-navigation-item js-navigation-open selected\"\\n               href=\"/arshren/Data-Structures/blob/master/Python%20Data%20Structure-%20DataFrame.ipynb\"\\n               data-name=\"master\"\\n               data-skip-pjax=\"true\"\\n               rel=\"nofollow\">\\n              <svg class=\"octicon octicon-check select-menu-item-icon\" viewBox=\"0 0 12 16\" version=\"1.1\" width=\"12\" height=\"16\" aria-hidden=\"true\"><path fill-rule=\"evenodd\" d=\"M12 5l-8 8-4-4 1.5-1.5L4 10l6.5-6.5L12 5z\"/></svg>\\n              <span class=\"select-menu-item-text css-truncate-target js-select-menu-filter-text\">\\n                master\\n              </span>\\n            </a>\\n        </div>\\n\\n          <div class=\"select-menu-no-results\">Nothing to show</div>\\n      </div>\\n\\n      <div class=\"select-menu-list select-menu-tab-bucket js-select-menu-tab-bucket\" data-tab-filter=\"tags\">\\n        <div data-filterable-for=\"context-commitish-filter-field\" data-filterable-type=\"substring\">\\n\\n\\n        </div>\\n\\n        <div class=\"select-menu-no-results\">Nothing to show</div>\\n      </div>\\n\\n    </div>\\n  </div>\\n</div>\\n\\n    <div class=\"BtnGroup float-right\">\\n      <a href=\"/arshren/Data-Structures/find/master\"\\n            class=\"js-pjax-capture-input btn btn-sm BtnGroup-item\"\\n            data-pjax\\n            data-hotkey=\"t\">\\n        Find file\\n      </a>\\n      <clipboard-copy for=\"blob-path\" class=\"btn btn-sm BtnGroup-item\">\\n        Copy path\\n      </clipboard-copy>\\n    </div>\\n    <div id=\"blob-path\" class=\"breadcrumb\">\\n      <span class=\"repo-root js-repo-root\"><span class=\"js-path-segment\"><a data-pjax=\"true\" href=\"/arshren/Data-Structures\"><span>Data-Structures</span></a></span></span><span class=\"separator\">/</span><strong class=\"final-path\">Python Data Structure- DataFrame.ipynb</strong>\\n    </div>\\n  </div>\\n\\n\\n  <include-fragment src=\"/arshren/Data-Structures/contributors/master/Python%20Data%20Structure-%20DataFrame.ipynb\" class=\"commit-tease commit-loader\">\\n    <div>\\n      Fetching contributors&hellip;\\n    </div>\\n\\n    <div class=\"commit-tease-contributors\">\\n        <img alt=\"\" class=\"loader-loading float-left\" src=\"https://assets-cdn.github.com/images/spinners/octocat-spinner-32-EAF2F5.gif\" width=\"16\" height=\"16\" />\\n      <span class=\"loader-error\">Cannot retrieve contributors at this time</span>\\n    </div>\\n</include-fragment>\\n\\n\\n  <div class=\"file\">\\n    <div class=\"file-header\">\\n  <div class=\"file-actions\">\\n      <div class=\"BtnGroup\">\\n        <a class=\"btn btn-sm BtnGroup-item tooltipped tooltipped tooltipped-n source \"\\n          href=\"/arshren/Data-Structures/blob/master/Python%20Data%20Structure-%20DataFrame.ipynb?short_path=817332a\" aria-label=\"Display the source blob\">\\n          <svg class=\"octicon octicon-code\" viewBox=\"0 0 14 16\" version=\"1.1\" width=\"14\" height=\"16\" aria-hidden=\"true\"><path fill-rule=\"evenodd\" d=\"M9.5 3L8 4.5 11.5 8 8 11.5 9.5 13 14 8 9.5 3zm-5 0L0 8l4.5 5L6 11.5 2.5 8 6 4.5 4.5 3z\"/></svg>\\n        </a>\\n        <a class=\"btn btn-sm BtnGroup-item tooltipped tooltipped-n rendered selected\"\\n          href=\"/arshren/Data-Structures/blob/master/Python%20Data%20Structure-%20DataFrame.ipynb\" aria-label=\"Display the rendered blob\">\\n          <svg class=\"octicon octicon-file\" viewBox=\"0 0 12 16\" version=\"1.1\" width=\"12\" height=\"16\" aria-hidden=\"true\"><path fill-rule=\"evenodd\" d=\"M6 5H2V4h4v1zM2 8h7V7H2v1zm0 2h7V9H2v1zm0 2h7v-1H2v1zm10-7.5V14c0 .55-.45 1-1 1H1c-.55 0-1-.45-1-1V2c0-.55.45-1 1-1h7.5L12 4.5zM11 5L8 2H1v12h10V5z\"/></svg>\\n        </a>\\n      </div>\\n\\n    <div class=\"BtnGroup\">\\n      <a id=\"raw-url\" class=\"btn btn-sm BtnGroup-item\" href=\"/arshren/Data-Structures/raw/master/Python%20Data%20Structure-%20DataFrame.ipynb\">Raw</a>\\n        <a class=\"btn btn-sm js-update-url-with-hash BtnGroup-item\" data-hotkey=\"b\" href=\"/arshren/Data-Structures/blame/master/Python%20Data%20Structure-%20DataFrame.ipynb\">Blame</a>\\n      <a rel=\"nofollow\" class=\"btn btn-sm BtnGroup-item\" href=\"/arshren/Data-Structures/commits/master/Python%20Data%20Structure-%20DataFrame.ipynb\">History</a>\\n    </div>\\n\\n\\n        <button type=\"button\" class=\"btn-octicon disabled tooltipped tooltipped-nw\"\\n          aria-label=\"You must be signed in to make or propose changes\">\\n          <svg class=\"octicon octicon-pencil\" viewBox=\"0 0 14 16\" version=\"1.1\" width=\"14\" height=\"16\" aria-hidden=\"true\"><path fill-rule=\"evenodd\" d=\"M0 12v3h3l8-8-3-3-8 8zm3 2H1v-2h1v1h1v1zm10.3-9.3L12 6 9 3l1.3-1.3a.996.996 0 0 1 1.41 0l1.59 1.59c.39.39.39 1.02 0 1.41z\"/></svg>\\n        </button>\\n        <button type=\"button\" class=\"btn-octicon btn-octicon-danger disabled tooltipped tooltipped-nw\"\\n          aria-label=\"You must be signed in to make or propose changes\">\\n          <svg class=\"octicon octicon-trashcan\" viewBox=\"0 0 12 16\" version=\"1.1\" width=\"12\" height=\"16\" aria-hidden=\"true\"><path fill-rule=\"evenodd\" d=\"M11 2H9c0-.55-.45-1-1-1H5c-.55 0-1 .45-1 1H2c-.55 0-1 .45-1 1v1c0 .55.45 1 1 1v9c0 .55.45 1 1 1h7c.55 0 1-.45 1-1V5c.55 0 1-.45 1-1V3c0-.55-.45-1-1-1zm-1 12H3V5h1v8h1V5h1v8h1V5h1v8h1V5h1v9zm1-10H2V3h9v1z\"/></svg>\\n        </button>\\n  </div>\\n\\n  <div class=\"file-info\">\\n      2055 lines (2054 sloc)\\n      <span class=\"file-info-divider\"></span>\\n    53.2 KB\\n  </div>\\n</div>\\n\\n    \\n\\n  <div itemprop=\"text\" class=\"blob-wrapper data type-jupyter-notebook\">\\n      \\n  <div class=\"render-wrapper\">\\n    <div class=\"render-container is-render-pending js-render-target \"\\n      data-identity=\"b5eea602-6090-4b53-9725-f85548e1ac4d\"\\n      data-host=\"https://render.githubusercontent.com\"\\n      data-type=\"ipynb\">\\n      <img class=\"octospinner\" alt=\"\" src=\"https://assets-cdn.github.com/images/spinners/octocat-spinner-128.gif\" width=\"64\" height=\"64\" />\\n      <div class=\"render-viewer-error\">Sorry, something went wrong. <a href=\"https://github.com/arshren/Data-Structures/blob/master/Python%20Data%20Structure-%20DataFrame.ipynb\">Reload?</a></div>\\n      <div class=\"render-viewer-fatal\">Sorry, we cannot display this file.</div>\\n      <div class=\"render-viewer-invalid\">Sorry, this file is invalid so it cannot be displayed.</div>\\n      <iframe class=\"render-viewer\" src=\"https://render.githubusercontent.com/view/ipynb?commit=681e1e866fff094e803b387e925228b0f4aeeef2&amp;enc_url=68747470733a2f2f7261772e67697468756275736572636f6e74656e742e636f6d2f6172736872656e2f446174612d537472756374757265732f363831653165383636666666303934653830336233383765393235323238623066346165656566322f507974686f6e253230446174612532305374727563747572652d253230446174614672616d652e6970796e62&amp;nwo=arshren%2FData-Structures&amp;path=Python+Data+Structure-+DataFrame.ipynb&amp;repository_id=133649378&amp;repository_type=Repository#b5eea602-6090-4b53-9725-f85548e1ac4d\" sandbox=\"allow-scripts allow-same-origin allow-top-navigation \">Viewer requires iframe.</iframe>\\n    </div>\\n  </div>\\n\\n  </div>\\n\\n  </div>\\n\\n  <details class=\"details-reset details-overlay details-overlay-dark\">\\n    <summary data-hotkey=\"l\" aria-label=\"Jump to line\"></summary>\\n    <details-dialog class=\"Box Box--overlay d-flex flex-column anim-fade-in fast linejump\" aria-label=\"Jump to line\">\\n      <!-- \\'\"` --><!-- </textarea></xmp> --></option></form><form class=\"js-jump-to-line-form Box-body d-flex\" action=\"\" accept-charset=\"UTF-8\" method=\"get\"><input name=\"utf8\" type=\"hidden\" value=\"&#x2713;\" />\\n        <input class=\"form-control flex-auto mr-3 linejump-input js-jump-to-line-field\" type=\"text\" placeholder=\"Jump to line&hellip;\" aria-label=\"Jump to line\" autofocus>\\n        <button type=\"submit\" class=\"btn\" data-close-dialog>Go</button>\\n</form>    </details-dialog>\\n  </details>\\n\\n\\n  </div>\\n  <div class=\"modal-backdrop js-touch-events\"></div>\\n</div>\\n\\n    </div>\\n  </div>\\n\\n  </div>\\n\\n        \\n<div class=\"footer container-lg px-3\" role=\"contentinfo\">\\n  <div class=\"position-relative d-flex flex-justify-between pt-6 pb-2 mt-6 f6 text-gray border-top border-gray-light \">\\n    <ul class=\"list-style-none d-flex flex-wrap \">\\n      <li class=\"mr-3\">&copy; 2018 <span title=\"0.16022s from unicorn-237554801-dqh7w\">GitHub</span>, Inc.</li>\\n        <li class=\"mr-3\"><a data-ga-click=\"Footer, go to terms, text:terms\" href=\"https://github.com/site/terms\">Terms</a></li>\\n        <li class=\"mr-3\"><a data-ga-click=\"Footer, go to privacy, text:privacy\" href=\"https://github.com/site/privacy\">Privacy</a></li>\\n        <li class=\"mr-3\"><a href=\"https://help.github.com/articles/github-security/\" data-ga-click=\"Footer, go to security, text:security\">Security</a></li>\\n        <li class=\"mr-3\"><a href=\"https://status.github.com/\" data-ga-click=\"Footer, go to status, text:status\">Status</a></li>\\n        <li><a data-ga-click=\"Footer, go to help, text:help\" href=\"https://help.github.com\">Help</a></li>\\n    </ul>\\n\\n    <a aria-label=\"Homepage\" title=\"GitHub\" class=\"footer-octicon mr-lg-4\" href=\"https://github.com\">\\n      <svg height=\"24\" class=\"octicon octicon-mark-github\" viewBox=\"0 0 16 16\" version=\"1.1\" width=\"24\" aria-hidden=\"true\"><path fill-rule=\"evenodd\" d=\"M8 0C3.58 0 0 3.58 0 8c0 3.54 2.29 6.53 5.47 7.59.4.07.55-.17.55-.38 0-.19-.01-.82-.01-1.49-2.01.37-2.53-.49-2.69-.94-.09-.23-.48-.94-.82-1.13-.28-.15-.68-.52-.01-.53.63-.01 1.08.58 1.23.82.72 1.21 1.87.87 2.33.66.07-.52.28-.87.51-1.07-1.78-.2-3.64-.89-3.64-3.95 0-.87.31-1.59.82-2.15-.08-.2-.36-1.02.08-2.12 0 0 .67-.21 2.2.82.64-.18 1.32-.27 2-.27.68 0 1.36.09 2 .27 1.53-1.04 2.2-.82 2.2-.82.44 1.1.16 1.92.08 2.12.51.56.82 1.27.82 2.15 0 3.07-1.87 3.75-3.65 3.95.29.25.54.73.54 1.48 0 1.07-.01 1.93-.01 2.2 0 .21.15.46.55.38A8.013 8.013 0 0 0 16 8c0-4.42-3.58-8-8-8z\"/></svg>\\n</a>\\n   <ul class=\"list-style-none d-flex flex-wrap \">\\n        <li class=\"mr-3\"><a data-ga-click=\"Footer, go to contact, text:contact\" href=\"https://github.com/contact\">Contact GitHub</a></li>\\n        <li class=\"mr-3\"><a href=\"https://github.com/pricing\" data-ga-click=\"Footer, go to Pricing, text:Pricing\">Pricing</a></li>\\n      <li class=\"mr-3\"><a href=\"https://developer.github.com\" data-ga-click=\"Footer, go to api, text:api\">API</a></li>\\n      <li class=\"mr-3\"><a href=\"https://training.github.com\" data-ga-click=\"Footer, go to training, text:training\">Training</a></li>\\n        <li class=\"mr-3\"><a href=\"https://blog.github.com\" data-ga-click=\"Footer, go to blog, text:blog\">Blog</a></li>\\n        <li><a data-ga-click=\"Footer, go to about, text:about\" href=\"https://github.com/about\">About</a></li>\\n\\n    </ul>\\n  </div>\\n  <div class=\"d-flex flex-justify-center pb-6\">\\n    <span class=\"f6 text-gray-light\"></span>\\n  </div>\\n</div>\\n\\n\\n\\n  <div id=\"ajax-error-message\" class=\"ajax-error-message flash flash-error\">\\n    <svg class=\"octicon octicon-alert\" viewBox=\"0 0 16 16\" version=\"1.1\" width=\"16\" height=\"16\" aria-hidden=\"true\"><path fill-rule=\"evenodd\" d=\"M8.893 1.5c-.183-.31-.52-.5-.887-.5s-.703.19-.886.5L.138 13.499a.98.98 0 0 0 0 1.001c.193.31.53.501.886.501h13.964c.367 0 .704-.19.877-.5a1.03 1.03 0 0 0 .01-1.002L8.893 1.5zm.133 11.497H6.987v-2.003h2.039v2.003zm0-3.004H6.987V5.987h2.039v4.006z\"/></svg>\\n    <button type=\"button\" class=\"flash-close js-ajax-error-dismiss\" aria-label=\"Dismiss error\">\\n      <svg class=\"octicon octicon-x\" viewBox=\"0 0 12 16\" version=\"1.1\" width=\"12\" height=\"16\" aria-hidden=\"true\"><path fill-rule=\"evenodd\" d=\"M7.48 8l3.75 3.75-1.48 1.48L6 9.48l-3.75 3.75-1.48-1.48L4.52 8 .77 4.25l1.48-1.48L6 6.52l3.75-3.75 1.48 1.48L7.48 8z\"/></svg>\\n    </button>\\n    You can\\xe2\\x80\\x99t perform that action at this time.\\n  </div>\\n\\n\\n    <script crossorigin=\"anonymous\" integrity=\"sha512-RJ1ufbxsSbKjRCyYvinsPNKvTBvcvvKUvEOJ8g+GjtWI5SuRr+QPBlZcvRDws4H9YwAgdQFcGxfL8UbwEfdI7A==\" type=\"application/javascript\" src=\"https://assets-cdn.github.com/assets/compat-daf14de28fadf1e2bc40d100cb773e2b.js\"></script>\\n    <script crossorigin=\"anonymous\" integrity=\"sha512-5d/Pd6srLuCtspb7kurP3J3EoU8xVGNQ9rf5mSUV5fYS4g570WZsMwxnyHBP36fMJO+cdpXVVmnNV8xnsEv06A==\" type=\"application/javascript\" src=\"https://assets-cdn.github.com/assets/frameworks-9136c198b33444d1d51cdf326a4baf7a.js\"></script>\\n    \\n    <script crossorigin=\"anonymous\" async=\"async\" integrity=\"sha512-jzKGz/76bAIzd5uhE4UU4HCZrjw8y4FsUg5IEEa/YwLBDoGIj49Za2D90I63sHZtOlPFDZnayivdHwAz1iuTDg==\" type=\"application/javascript\" src=\"https://assets-cdn.github.com/assets/github-c69522571c232007413ef6dc3a19a40e.js\"></script>\\n    \\n    \\n    \\n  <div class=\"js-stale-session-flash stale-session-flash flash flash-warn flash-banner d-none\">\\n    <svg class=\"octicon octicon-alert\" viewBox=\"0 0 16 16\" version=\"1.1\" width=\"16\" height=\"16\" aria-hidden=\"true\"><path fill-rule=\"evenodd\" d=\"M8.893 1.5c-.183-.31-.52-.5-.887-.5s-.703.19-.886.5L.138 13.499a.98.98 0 0 0 0 1.001c.193.31.53.501.886.501h13.964c.367 0 .704-.19.877-.5a1.03 1.03 0 0 0 .01-1.002L8.893 1.5zm.133 11.497H6.987v-2.003h2.039v2.003zm0-3.004H6.987V5.987h2.039v4.006z\"/></svg>\\n    <span class=\"signed-in-tab-flash\">You signed in with another tab or window. <a href=\"\">Reload</a> to refresh your session.</span>\\n    <span class=\"signed-out-tab-flash\">You signed out in another tab or window. <a href=\"\">Reload</a> to refresh your session.</span>\\n  </div>\\n  <div class=\"facebox\" id=\"facebox\" style=\"display:none;\">\\n  <div class=\"facebox-popup\">\\n    <div class=\"facebox-content\" role=\"dialog\" aria-labelledby=\"facebox-header\" aria-describedby=\"facebox-description\">\\n    </div>\\n    <button type=\"button\" class=\"facebox-close js-facebox-close\" aria-label=\"Close modal\">\\n      <svg class=\"octicon octicon-x\" viewBox=\"0 0 12 16\" version=\"1.1\" width=\"12\" height=\"16\" aria-hidden=\"true\"><path fill-rule=\"evenodd\" d=\"M7.48 8l3.75 3.75-1.48 1.48L6 9.48l-3.75 3.75-1.48-1.48L4.52 8 .77 4.25l1.48-1.48L6 6.52l3.75-3.75 1.48 1.48L7.48 8z\"/></svg>\\n    </button>\\n  </div>\\n</div>\\n\\n  <template id=\"site-details-dialog\">\\n  <details class=\"details-reset details-overlay details-overlay-dark lh-default text-gray-dark\" open>\\n    <summary aria-haspopup=\"dialog\" aria-label=\"Close dialog\"></summary>\\n    <details-dialog class=\"Box Box--overlay d-flex flex-column anim-fade-in fast\">\\n      <button class=\"m-3 btn-octicon position-absolute right-0 top-0\" type=\"button\" aria-label=\"Close dialog\" data-close-dialog>\\n        <svg class=\"octicon octicon-x\" viewBox=\"0 0 12 16\" version=\"1.1\" width=\"12\" height=\"16\" aria-hidden=\"true\"><path fill-rule=\"evenodd\" d=\"M7.48 8l3.75 3.75-1.48 1.48L6 9.48l-3.75 3.75-1.48-1.48L4.52 8 .77 4.25l1.48-1.48L6 6.52l3.75-3.75 1.48 1.48L7.48 8z\"/></svg>\\n      </button>\\n      <div class=\"octocat-spinner my-6 js-details-dialog-spinner\"></div>\\n    </details-dialog>\\n  </details>\\n</template>\\n\\n  <div class=\"Popover js-hovercard-content position-absolute\" style=\"display: none; outline: none;\" tabindex=\"0\">\\n  <div class=\"Popover-message Popover-message--bottom-left Popover-message--large Box box-shadow-large\" style=\"width:360px;\">\\n  </div>\\n</div>\\n\\n<div id=\"hovercard-aria-description\" class=\"sr-only\">\\n  Press h to open a hovercard with more details.\\n</div>\\n\\n\\n  </body>\\n</html>\\n\\n'"
      ]
     },
     "execution_count": 132,
     "metadata": {},
     "output_type": "execute_result"
    }
   ],
   "source": [
    "response.content"
   ]
  },
  {
   "cell_type": "code",
   "execution_count": 217,
   "metadata": {},
   "outputs": [
    {
     "data": {
      "text/plain": [
       "[                                             Bank Name                City  \\\n",
       " 0                  Washington Federal Bank for Savings             Chicago   \n",
       " 1      The Farmers and Merchants State Bank of Argonia             Argonia   \n",
       " 2                                  Fayette County Bank          Saint Elmo   \n",
       " 3    Guaranty Bank, (d/b/a BestBank in Georgia & Mi...           Milwaukee   \n",
       " 4                                       First NBC Bank         New Orleans   \n",
       " 5                                        Proficio Bank  Cottonwood Heights   \n",
       " 6                        Seaway Bank and Trust Company             Chicago   \n",
       " 7                               Harvest Community Bank          Pennsville   \n",
       " 8                                          Allied Bank            Mulberry   \n",
       " 9                         The Woodbury Banking Company            Woodbury   \n",
       " 10                              First CornerStone Bank     King of Prussia   \n",
       " 11                                  Trust Company Bank             Memphis   \n",
       " 12                          North Milwaukee State Bank           Milwaukee   \n",
       " 13                              Hometown National Bank            Longview   \n",
       " 14                                 The Bank of Georgia      Peachtree City   \n",
       " 15                                        Premier Bank              Denver   \n",
       " 16                                      Edgebrook Bank             Chicago   \n",
       " 17                              Doral Bank  En Espanol            San Juan   \n",
       " 18                   Capitol City Bank & Trust Company             Atlanta   \n",
       " 19                             Highland Community Bank             Chicago   \n",
       " 20                    First National Bank of Crestview           Crestview   \n",
       " 21                                  Northern Star Bank             Mankato   \n",
       " 22              Frontier Bank, FSB D/B/A El Paseo Bank         Palm Desert   \n",
       " 23               The National Republic Bank of Chicago             Chicago   \n",
       " 24                                      NBRS Financial          Rising Sun   \n",
       " 25                               GreenChoice Bank, fsb             Chicago   \n",
       " 26                            Eastside Commercial Bank             Conyers   \n",
       " 27                              The Freedom State Bank             Freedom   \n",
       " 28                                         Valley Bank     Fort Lauderdale   \n",
       " 29                                         Valley Bank              Moline   \n",
       " ..                                                 ...                 ...   \n",
       " 525                                  ANB Financial, NA         Bentonville   \n",
       " 526                                          Hume Bank                Hume   \n",
       " 527                             Douglass National Bank         Kansas City   \n",
       " 528                                  Miami Valley Bank            Lakeview   \n",
       " 529                                            NetBank          Alpharetta   \n",
       " 530                          Metropolitan Savings Bank          Pittsburgh   \n",
       " 531                                    Bank of Ephraim             Ephraim   \n",
       " 532                                      Reliance Bank        White Plains   \n",
       " 533              Guaranty National Bank of Tallahassee         Tallahassee   \n",
       " 534                                Dollar Savings Bank              Newark   \n",
       " 535                               Pulaski Savings Bank        Philadelphia   \n",
       " 536              First National Bank of Blanchardville      Blanchardville   \n",
       " 537                              Southern Pacific Bank            Torrance   \n",
       " 538                        Farmers Bank of Cheneyville         Cheneyville   \n",
       " 539                                      Bank of Alamo               Alamo   \n",
       " 540             AmTrade International Bank  En Espanol             Atlanta   \n",
       " 541                     Universal Federal Savings Bank             Chicago   \n",
       " 542                       Connecticut Bank of Commerce            Stamford   \n",
       " 543                                   New Century Bank     Shelby Township   \n",
       " 544                              Net 1st National Bank          Boca Raton   \n",
       " 545                                       NextBank, NA             Phoenix   \n",
       " 546                           Oakwood Deposit Bank Co.             Oakwood   \n",
       " 547                              Bank of Sierra Blanca       Sierra Blanca   \n",
       " 548                      Hamilton Bank, NA  En Espanol               Miami   \n",
       " 549                             Sinclair National Bank            Gravette   \n",
       " 550                                 Superior Bank, FSB            Hinsdale   \n",
       " 551                                Malta National Bank               Malta   \n",
       " 552                    First Alliance Bank & Trust Co.          Manchester   \n",
       " 553                  National State Bank of Metropolis          Metropolis   \n",
       " 554                                   Bank of Honolulu            Honolulu   \n",
       " \n",
       "      ST   CERT                Acquiring Institution        Closing Date  \\\n",
       " 0    IL  30570                   Royal Savings Bank   December 15, 2017   \n",
       " 1    KS  17719                          Conway Bank    October 13, 2017   \n",
       " 2    IL   1802            United Fidelity Bank, fsb        May 26, 2017   \n",
       " 3    WI  30003  First-Citizens Bank & Trust Company         May 5, 2017   \n",
       " 4    LA  58302                         Whitney Bank      April 28, 2017   \n",
       " 5    UT  35495                    Cache Valley Bank       March 3, 2017   \n",
       " 6    IL  19328                  State Bank of Texas    January 27, 2017   \n",
       " 7    NJ  34951  First-Citizens Bank & Trust Company    January 13, 2017   \n",
       " 8    AR     91                         Today's Bank  September 23, 2016   \n",
       " 9    GA  11297                          United Bank     August 19, 2016   \n",
       " 10   PA  35312  First-Citizens Bank & Trust Company         May 6, 2016   \n",
       " 11   TN   9956           The Bank of Fayette County      April 29, 2016   \n",
       " 12   WI  20364  First-Citizens Bank & Trust Company      March 11, 2016   \n",
       " 13   WA  35156                       Twin City Bank     October 2, 2015   \n",
       " 14   GA  35259                        Fidelity Bank     October 2, 2015   \n",
       " 15   CO  34112            United Fidelity Bank, fsb       July 10, 2015   \n",
       " 16   IL  57772             Republic Bank of Chicago         May 8, 2015   \n",
       " 17   PR  32102         Banco Popular de Puerto Rico   February 27, 2015   \n",
       " 18   GA  33938  First-Citizens Bank & Trust Company   February 13, 2015   \n",
       " 19   IL  20290            United Fidelity Bank, fsb    January 23, 2015   \n",
       " 20   FL  17557                       First NBC Bank    January 16, 2015   \n",
       " 21   MN  34983                            BankVista   December 19, 2014   \n",
       " 22   CA  34738    Bank of Southern California, N.A.    November 7, 2014   \n",
       " 23   IL    916                  State Bank of Texas    October 24, 2014   \n",
       " 24   MD   4862                          Howard Bank    October 17, 2014   \n",
       " 25   IL  28462                 Providence Bank, LLC       July 25, 2014   \n",
       " 26   GA  58125            Community & Southern Bank       July 18, 2014   \n",
       " 27   OK  12483      Alva State Bank & Trust Company       June 27, 2014   \n",
       " 28   FL  21793  Landmark Bank, National Association       June 20, 2014   \n",
       " 29   IL  10450                  Great Southern Bank       June 20, 2014   \n",
       " ..   ..    ...                                  ...                 ...   \n",
       " 525  AR  33901       Pulaski Bank and Trust Company         May 9, 2008   \n",
       " 526  MO   1971                        Security Bank       March 7, 2008   \n",
       " 527  MO  24660       Liberty Bank and Trust Company    January 25, 2008   \n",
       " 528  OH  16848         The Citizens Banking Company     October 4, 2007   \n",
       " 529  GA  32575                           ING DIRECT  September 28, 2007   \n",
       " 530  PA  35353  Allegheny Valley Bank of Pittsburgh    February 2, 2007   \n",
       " 531  UT   1249                        Far West Bank       June 25, 2004   \n",
       " 532  NY  26778                     Union State Bank      March 19, 2004   \n",
       " 533  FL  26838              Hancock Bank of Florida      March 12, 2004   \n",
       " 534  NJ  31330                          No Acquirer   February 14, 2004   \n",
       " 535  PA  27203                       Earthstar Bank   November 14, 2003   \n",
       " 536  WI  11639                        The Park Bank         May 9, 2003   \n",
       " 537  CA  27094                            Beal Bank    February 7, 2003   \n",
       " 538  LA  16445            Sabine State Bank & Trust   December 17, 2002   \n",
       " 539  TN   9961                          No Acquirer    November 8, 2002   \n",
       " 540  GA  33784                          No Acquirer  September 30, 2002   \n",
       " 541  IL  29355               Chicago Community Bank       June 27, 2002   \n",
       " 542  CT  19183                   Hudson United Bank       June 26, 2002   \n",
       " 543  MI  34979                          No Acquirer      March 28, 2002   \n",
       " 544  FL  26652                       Bank Leumi USA       March 1, 2002   \n",
       " 545  AZ  22314                          No Acquirer    February 7, 2002   \n",
       " 546  OH   8966       The State Bank & Trust Company    February 1, 2002   \n",
       " 547  TX  22002     The Security State Bank of Pecos    January 18, 2002   \n",
       " 548  FL  24382     Israel Discount Bank of New York    January 11, 2002   \n",
       " 549  AR  34248                   Delta Trust & Bank   September 7, 2001   \n",
       " 550  IL  32646                Superior Federal, FSB       July 27, 2001   \n",
       " 551  OH   6629                    North Valley Bank         May 3, 2001   \n",
       " 552  NH  34264  Southern New Hampshire Bank & Trust    February 2, 2001   \n",
       " 553  IL   3815              Banterra Bank of Marion   December 14, 2000   \n",
       " 554  HI  21029                   Bank of the Orient    October 13, 2000   \n",
       " \n",
       "            Updated Date  \n",
       " 0     February 21, 2018  \n",
       " 1     February 21, 2018  \n",
       " 2         July 26, 2017  \n",
       " 3        March 22, 2018  \n",
       " 4      December 5, 2017  \n",
       " 5         March 7, 2018  \n",
       " 6          May 18, 2017  \n",
       " 7          May 18, 2017  \n",
       " 8    September 25, 2017  \n",
       " 9          June 1, 2017  \n",
       " 10    September 6, 2016  \n",
       " 11    September 6, 2016  \n",
       " 12       March 13, 2017  \n",
       " 13    February 19, 2018  \n",
       " 14         July 9, 2018  \n",
       " 15    February 20, 2018  \n",
       " 16        July 12, 2016  \n",
       " 17         May 13, 2015  \n",
       " 18       April 21, 2015  \n",
       " 19    November 15, 2017  \n",
       " 20    November 15, 2017  \n",
       " 21      January 3, 2018  \n",
       " 22    November 10, 2016  \n",
       " 23      January 6, 2016  \n",
       " 24    February 19, 2018  \n",
       " 25    December 12, 2016  \n",
       " 26      October 6, 2017  \n",
       " 27    February 21, 2018  \n",
       " 28    February 14, 2018  \n",
       " 29        June 26, 2015  \n",
       " ..                  ...  \n",
       " 525     August 28, 2012  \n",
       " 526     August 28, 2012  \n",
       " 527    October 26, 2012  \n",
       " 528  September 12, 2016  \n",
       " 529     August 28, 2012  \n",
       " 530    October 27, 2010  \n",
       " 531       April 9, 2008  \n",
       " 532       April 9, 2008  \n",
       " 533      April 17, 2018  \n",
       " 534       April 9, 2008  \n",
       " 535     October 6, 2017  \n",
       " 536        June 5, 2012  \n",
       " 537    October 20, 2008  \n",
       " 538    October 20, 2004  \n",
       " 539      March 18, 2005  \n",
       " 540  September 11, 2006  \n",
       " 541     October 6, 2017  \n",
       " 542   February 14, 2012  \n",
       " 543      March 18, 2005  \n",
       " 544       April 9, 2008  \n",
       " 545    February 5, 2015  \n",
       " 546    October 25, 2012  \n",
       " 547    November 6, 2003  \n",
       " 548  September 21, 2015  \n",
       " 549     October 6, 2017  \n",
       " 550     August 19, 2014  \n",
       " 551   November 18, 2002  \n",
       " 552   February 18, 2003  \n",
       " 553      March 17, 2005  \n",
       " 554      March 17, 2005  \n",
       " \n",
       " [555 rows x 7 columns]]"
      ]
     },
     "execution_count": 217,
     "metadata": {},
     "output_type": "execute_result"
    }
   ],
   "source": [
    "# reading an HTML file\n",
    "# in the uel the data is stored in a table format\n",
    "from pandas import read_html\n",
    "url=\"https://www.fdic.gov/bank/individual/failed/banklist.html\"\n",
    "bank_data = pd.io.html.read_html(url)\n",
    "bank_data"
   ]
  },
  {
   "cell_type": "code",
   "execution_count": null,
   "metadata": {},
   "outputs": [],
   "source": [
    "url=\"https://www.cnn.com/2018/09/07/politics/trump-inauguration-photos/index.html\"\n",
    "import urllib.request\n",
    "from bs4 import BeautifulSoup\n",
    "from gensim.summarization.summarizer import summarize\n",
    "#from gensim.summarization import keywords\n",
    "page = urllib.request.urlopen(url)\n",
    "html = page.read()\n",
    "soup = BeautifulSoup(html, 'html.parser')\n",
    "# prints the title of the story in CNN\n",
    "title = soup.find('title').get_text()\n",
    "print(title)\n",
    "\n",
    "#print(soup.prettify)\n",
    "text = soup.find_all('div', class_=re.compile(\"zn\"))\n",
    "art_1=[]\n",
    "for t in text:\n",
    "    art_1.append(t.get_text())\n",
    "print(summarize(str(art_1)))"
   ]
  }
 ],
 "metadata": {
  "kernelspec": {
   "display_name": "Python 3",
   "language": "python",
   "name": "python3"
  },
  "language_info": {
   "codemirror_mode": {
    "name": "ipython",
    "version": 3
   },
   "file_extension": ".py",
   "mimetype": "text/x-python",
   "name": "python",
   "nbconvert_exporter": "python",
   "pygments_lexer": "ipython3",
   "version": "3.6.1"
  }
 },
 "nbformat": 4,
 "nbformat_minor": 2
}
